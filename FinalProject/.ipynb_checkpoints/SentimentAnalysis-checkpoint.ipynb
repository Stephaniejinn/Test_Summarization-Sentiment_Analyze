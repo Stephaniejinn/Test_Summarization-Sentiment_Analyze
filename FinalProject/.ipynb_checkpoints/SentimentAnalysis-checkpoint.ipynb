{
 "cells": [
  {
   "cell_type": "code",
   "execution_count": 3,
   "metadata": {},
   "outputs": [
    {
     "name": "stdout",
     "output_type": "stream",
     "text": [
      "C:\\Users\\sunykorea\\Desktop\\519\\Test_Summarization-Sentiment_Analyze\\FinalProject\\Result\n"
     ]
    }
   ],
   "source": [
    "import pandas as pd\n",
    "from pandas import DataFrame\n",
    "from vaderSentiment.vaderSentiment import SentimentIntensityAnalyzer\n",
    "import os\n",
    "\n",
    "\n",
    "# directory = \"./Result\"\n",
    "# os.chdir(directory)  #切换到directory目录\n",
    "cwd = os.getcwd()  #获取当前目录即dir目录下\n",
    "print(cwd)\n",
    "\n",
    "\n",
    "# dataset = pd.read_excel('CosineSumNews.xlsx')\n",
    "dataset = pd.read_excel('TFIDFSum.xlsx')\n",
    "sia = SentimentIntensityAnalyzer()\n",
    "\n",
    "dataset['Polairty Scores'] = dataset['Summerization'].apply(lambda x: sia.polarity_scores(x)['compound'])\n",
    "\n",
    "# DataFrame(dataset).to_excel('SentCosineResult.xlsx', sheet_name='List', index=False, header=True)\n",
    "DataFrame(dataset).to_excel('SentTFIDFResult.xlsx', sheet_name='List', index=False, header=True)\n"
   ]
  },
  {
   "cell_type": "code",
   "execution_count": 9,
   "metadata": {},
   "outputs": [
    {
     "name": "stderr",
     "output_type": "stream",
     "text": [
      "C:\\Users\\sunykorea\\anaconda3\\lib\\site-packages\\ipykernel_launcher.py:10: SettingWithCopyWarning: \n",
      "A value is trying to be set on a copy of a slice from a DataFrame\n",
      "\n",
      "See the caveats in the documentation: https://pandas.pydata.org/pandas-docs/stable/user_guide/indexing.html#returning-a-view-versus-a-copy\n",
      "  # Remove the CWD from sys.path while we load stuff.\n",
      "C:\\Users\\sunykorea\\anaconda3\\lib\\site-packages\\ipykernel_launcher.py:6: SettingWithCopyWarning: \n",
      "A value is trying to be set on a copy of a slice from a DataFrame\n",
      "\n",
      "See the caveats in the documentation: https://pandas.pydata.org/pandas-docs/stable/user_guide/indexing.html#returning-a-view-versus-a-copy\n",
      "  \n",
      "C:\\Users\\sunykorea\\anaconda3\\lib\\site-packages\\ipykernel_launcher.py:8: SettingWithCopyWarning: \n",
      "A value is trying to be set on a copy of a slice from a DataFrame\n",
      "\n",
      "See the caveats in the documentation: https://pandas.pydata.org/pandas-docs/stable/user_guide/indexing.html#returning-a-view-versus-a-copy\n",
      "  \n"
     ]
    },
    {
     "name": "stdout",
     "output_type": "stream",
     "text": [
      "0       positive\n",
      "1       positive\n",
      "2       positive\n",
      "3       negative\n",
      "4       positive\n",
      "          ...   \n",
      "6134     neutral\n",
      "6135    negative\n",
      "6136    negative\n",
      "6137    positive\n",
      "6138     neutral\n",
      "Name: Sentiment, Length: 6139, dtype: object\n",
      "C:\\Users\\sunykorea\\Desktop\\519\\Test_Summarization-Sentiment_Analyze\\FinalProject\n"
     ]
    }
   ],
   "source": [
    "# dataset = pd.read_excel('SentNLTKResult.xlsx')\n",
    "dataset = pd.read_excel('SentSklearnResult.xlsx')\n",
    "\n",
    "dataset['Sentiment'] = None\n",
    "for i in range(len(dataset['Polairty Scores'])):\n",
    "    if dataset['Polairty Scores'][i] <= 0:\n",
    "        dataset['Sentiment'][i] ='negative'\n",
    "    elif dataset['Polairty Scores'][i] <= 0.5:\n",
    "        dataset['Sentiment'][i] ='neutral'\n",
    "    else:\n",
    "        dataset['Sentiment'][i] ='positive'\n",
    "print(dataset['Sentiment'] )\n",
    "        \n",
    "# DataFrame(dataset).to_excel('SentCosineResult.xlsx', sheet_name='List', index=False, header=True)\n",
    "DataFrame(dataset).to_excel('SentTFIDFResult.xlsx', sheet_name='List', index=False, header=True)\n",
    "\n",
    "directory = \"../\"\n",
    "os.chdir(directory)  #切换到directory目录\n",
    "cwd = os.getcwd()  #获取当前目录即dir目录下\n",
    "print(cwd)\n",
    "\n",
    "\n",
    "\n"
   ]
  },
  {
   "cell_type": "code",
   "execution_count": null,
   "metadata": {},
   "outputs": [],
   "source": []
  }
 ],
 "metadata": {
  "kernelspec": {
   "display_name": "Python 3",
   "language": "python",
   "name": "python3"
  },
  "language_info": {
   "codemirror_mode": {
    "name": "ipython",
    "version": 3
   },
   "file_extension": ".py",
   "mimetype": "text/x-python",
   "name": "python",
   "nbconvert_exporter": "python",
   "pygments_lexer": "ipython3",
   "version": "3.7.6"
  }
 },
 "nbformat": 4,
 "nbformat_minor": 4
}
